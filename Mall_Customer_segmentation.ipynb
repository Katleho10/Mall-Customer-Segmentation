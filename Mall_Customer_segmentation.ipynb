{
 "cells": [
  {
   "cell_type": "markdown",
   "id": "9ca128ab",
   "metadata": {
    "colab_type": "text",
    "id": "view-in-github"
   },
   "source": [
    "<a href=\"https://colab.research.google.com/github/Katleho10/Mall-Customer-Segmentation/blob/main/Mall_Customer_segmentation.ipynb\" target=\"_parent\"><img src=\"https://colab.research.google.com/assets/colab-badge.svg\" alt=\"Open In Colab\"/></a>"
   ]
  },
  {
   "cell_type": "markdown",
   "id": "e41162dc",
   "metadata": {
    "id": "e41162dc"
   },
   "source": [
    "### Table of contents\n",
    "1. Introduction\n",
    "2. Defining the problem statement\n",
    "3. Imports\n",
    "4. EDA\n",
    "5. K-Means Clustering summary\n",
    "6. Model Interpretation \n",
    "7. Benefits of customer segmentation\n",
    "8. Saving the kmeans clustering model and the data with cluster label"
   ]
  },
  {
   "cell_type": "markdown",
   "id": "ce2269fb",
   "metadata": {
    "id": "ce2269fb"
   },
   "source": [
    "### 1. Introduction\n",
    "\n",
    "Market segmentation is the activity of dividing a broad consumer or business market, normally consisting of existing and potential customers, into sub-groups of consumers based on some type of shared characteristics.\n",
    "\n",
    "Companies employing customer segmentation operate under the fact that every customer is different and that their marketing efforts would be better served if they target specific, smaller groups with messages that those consumers would find relevant and lead them to buy something. Companies also hope to gain a deeper understanding of their customers' preferences and needs with the idea of discovering what each segment finds most valuable to more accurately tailor marketing materials toward that segment.\n",
    "\n",
    "\n",
    "Malls or shopping complexes are often involved in the race to increase their customers and hence making huge profits. To achieve this task machine learning can be applied. The shopping complexes make use of their customers data and develop ML models to target the right ones.\n"
   ]
  },
  {
   "cell_type": "markdown",
   "id": "2822c276",
   "metadata": {
    "id": "2822c276"
   },
   "source": [
    "### 2. Defining the problem statement"
   ]
  },
  {
   "cell_type": "markdown",
   "id": "dbc317cd",
   "metadata": {
    "id": "dbc317cd"
   },
   "source": [
    "You own the mall and want to understand the customers l who can easily be a target market so that the it can be given to marketing team and plan the strategy accordingly\n",
    "\n",
    "We have four features in our datasets -\n",
    "\n",
    "Customer Id\n",
    "Gender\n",
    "Age\n",
    "Annual Income\n",
    "Spending Score\n",
    "\n",
    "Based on the above data we have to find a group of customer, which are unique in their own way. So that proper marketing strategy can be defined for each group and targeted separately."
   ]
  },
  {
   "cell_type": "markdown",
   "id": "996c4d4f",
   "metadata": {
    "id": "996c4d4f"
   },
   "source": [
    "### 3. Imports"
   ]
  },
  {
   "cell_type": "code",
   "execution_count": 1,
   "id": "a5f37b29",
   "metadata": {
    "id": "a5f37b29"
   },
   "outputs": [],
   "source": [
    "import numpy as np                                      # For Mathematical calculations \n",
    "import pandas as pd                                     # For data manipulation and analysis \n",
    "import seaborn as sns                                   # For data visualisation\n",
    "import matplotlib.pyplot as plt                         # For plotting graphs\n",
    "from sklearn.tree import DecisionTreeClassifier         # For building decision tree models \n",
    "from sklearn.model_selection import train_test_split    # For splitting datasets into training and testing subsets\n",
    "from sklearn.metrics import classification_report       # Provides a summary of various classification metrics\n",
    "from sklearn import tree                                # Provides various classes and functions for working with decision trees\n",
    "from sklearn import metrics                             # Provides various metrics and evaluation functions for assessing the performance of machine learning models\n",
    "import warnings                                         # Filters and ignore warnings related to potential future changes in Python or library versions\n",
    "warnings.filterwarnings('ignore')                       "
   ]
  },
  {
   "cell_type": "code",
   "execution_count": 2,
   "id": "0bb8d388",
   "metadata": {
    "id": "0bb8d388"
   },
   "outputs": [],
   "source": [
    "df = pd.read_csv('Mall_Customers.csv')"
   ]
  },
  {
   "cell_type": "code",
   "execution_count": 3,
   "id": "99f9e71b",
   "metadata": {
    "id": "99f9e71b",
    "outputId": "741c4269-eda1-44c3-bf9e-5f3a1b58823d"
   },
   "outputs": [
    {
     "data": {
      "text/html": [
       "<div>\n",
       "<style scoped>\n",
       "    .dataframe tbody tr th:only-of-type {\n",
       "        vertical-align: middle;\n",
       "    }\n",
       "\n",
       "    .dataframe tbody tr th {\n",
       "        vertical-align: top;\n",
       "    }\n",
       "\n",
       "    .dataframe thead th {\n",
       "        text-align: right;\n",
       "    }\n",
       "</style>\n",
       "<table border=\"1\" class=\"dataframe\">\n",
       "  <thead>\n",
       "    <tr style=\"text-align: right;\">\n",
       "      <th></th>\n",
       "      <th>CustomerID</th>\n",
       "      <th>Gender</th>\n",
       "      <th>Age</th>\n",
       "      <th>Annual Income (k$)</th>\n",
       "      <th>Spending Score (1-100)</th>\n",
       "    </tr>\n",
       "  </thead>\n",
       "  <tbody>\n",
       "    <tr>\n",
       "      <th>0</th>\n",
       "      <td>1</td>\n",
       "      <td>Male</td>\n",
       "      <td>19</td>\n",
       "      <td>15</td>\n",
       "      <td>39</td>\n",
       "    </tr>\n",
       "    <tr>\n",
       "      <th>1</th>\n",
       "      <td>2</td>\n",
       "      <td>Male</td>\n",
       "      <td>21</td>\n",
       "      <td>15</td>\n",
       "      <td>81</td>\n",
       "    </tr>\n",
       "    <tr>\n",
       "      <th>2</th>\n",
       "      <td>3</td>\n",
       "      <td>Female</td>\n",
       "      <td>20</td>\n",
       "      <td>16</td>\n",
       "      <td>6</td>\n",
       "    </tr>\n",
       "    <tr>\n",
       "      <th>3</th>\n",
       "      <td>4</td>\n",
       "      <td>Female</td>\n",
       "      <td>23</td>\n",
       "      <td>16</td>\n",
       "      <td>77</td>\n",
       "    </tr>\n",
       "    <tr>\n",
       "      <th>4</th>\n",
       "      <td>5</td>\n",
       "      <td>Female</td>\n",
       "      <td>31</td>\n",
       "      <td>17</td>\n",
       "      <td>40</td>\n",
       "    </tr>\n",
       "  </tbody>\n",
       "</table>\n",
       "</div>"
      ],
      "text/plain": [
       "   CustomerID  Gender  Age  Annual Income (k$)  Spending Score (1-100)\n",
       "0           1    Male   19                  15                      39\n",
       "1           2    Male   21                  15                      81\n",
       "2           3  Female   20                  16                       6\n",
       "3           4  Female   23                  16                      77\n",
       "4           5  Female   31                  17                      40"
      ]
     },
     "execution_count": 3,
     "metadata": {},
     "output_type": "execute_result"
    }
   ],
   "source": [
    "#Show first 5 rows\n",
    "df.head()"
   ]
  },
  {
   "cell_type": "code",
   "execution_count": 4,
   "id": "1b9b256d",
   "metadata": {
    "id": "1b9b256d",
    "outputId": "8844b0f1-ec97-4a20-e44e-cc5e03d178ba"
   },
   "outputs": [
    {
     "data": {
      "text/plain": [
       "(200, 5)"
      ]
     },
     "execution_count": 4,
     "metadata": {},
     "output_type": "execute_result"
    }
   ],
   "source": [
    "df.shape"
   ]
  },
  {
   "cell_type": "code",
   "execution_count": 5,
   "id": "c57a57cd",
   "metadata": {
    "id": "c57a57cd",
    "outputId": "01d99174-ec38-43b2-a394-9cacf9570125"
   },
   "outputs": [
    {
     "data": {
      "text/plain": [
       "CustomerID                0\n",
       "Gender                    0\n",
       "Age                       0\n",
       "Annual Income (k$)        0\n",
       "Spending Score (1-100)    0\n",
       "dtype: int64"
      ]
     },
     "execution_count": 5,
     "metadata": {},
     "output_type": "execute_result"
    }
   ],
   "source": [
    "#check missing values\n",
    "df.isnull().sum()"
   ]
  },
  {
   "cell_type": "code",
   "execution_count": 6,
   "id": "051949dc",
   "metadata": {
    "id": "051949dc",
    "outputId": "ec718b1b-9648-4e9c-b1ba-95872dc29372"
   },
   "outputs": [
    {
     "name": "stdout",
     "output_type": "stream",
     "text": [
      "<class 'pandas.core.frame.DataFrame'>\n",
      "RangeIndex: 200 entries, 0 to 199\n",
      "Data columns (total 5 columns):\n",
      " #   Column                  Non-Null Count  Dtype \n",
      "---  ------                  --------------  ----- \n",
      " 0   CustomerID              200 non-null    int64 \n",
      " 1   Gender                  200 non-null    object\n",
      " 2   Age                     200 non-null    int64 \n",
      " 3   Annual Income (k$)      200 non-null    int64 \n",
      " 4   Spending Score (1-100)  200 non-null    int64 \n",
      "dtypes: int64(4), object(1)\n",
      "memory usage: 7.9+ KB\n"
     ]
    }
   ],
   "source": [
    "#Show info about the dataframe\n",
    "df.info()"
   ]
  },
  {
   "cell_type": "code",
   "execution_count": 7,
   "id": "9995834b",
   "metadata": {},
   "outputs": [],
   "source": [
    "df.drop('CustomerID', axis=1, inplace=True)"
   ]
  },
  {
   "cell_type": "markdown",
   "id": "51a66378",
   "metadata": {
    "id": "51a66378"
   },
   "source": [
    "### 4. EDA"
   ]
  },
  {
   "cell_type": "code",
   "execution_count": 8,
   "id": "2ca5158b",
   "metadata": {
    "id": "2ca5158b",
    "outputId": "26f56eaf-a820-4dbe-ea13-b8d334ad2f9d"
   },
   "outputs": [
    {
     "data": {
      "text/html": [
       "<div>\n",
       "<style scoped>\n",
       "    .dataframe tbody tr th:only-of-type {\n",
       "        vertical-align: middle;\n",
       "    }\n",
       "\n",
       "    .dataframe tbody tr th {\n",
       "        vertical-align: top;\n",
       "    }\n",
       "\n",
       "    .dataframe thead th {\n",
       "        text-align: right;\n",
       "    }\n",
       "</style>\n",
       "<table border=\"1\" class=\"dataframe\">\n",
       "  <thead>\n",
       "    <tr style=\"text-align: right;\">\n",
       "      <th></th>\n",
       "      <th>Age</th>\n",
       "      <th>Annual Income (k$)</th>\n",
       "      <th>Spending Score (1-100)</th>\n",
       "    </tr>\n",
       "  </thead>\n",
       "  <tbody>\n",
       "    <tr>\n",
       "      <th>count</th>\n",
       "      <td>200.000000</td>\n",
       "      <td>200.000000</td>\n",
       "      <td>200.000000</td>\n",
       "    </tr>\n",
       "    <tr>\n",
       "      <th>mean</th>\n",
       "      <td>38.850000</td>\n",
       "      <td>60.560000</td>\n",
       "      <td>50.200000</td>\n",
       "    </tr>\n",
       "    <tr>\n",
       "      <th>std</th>\n",
       "      <td>13.969007</td>\n",
       "      <td>26.264721</td>\n",
       "      <td>25.823522</td>\n",
       "    </tr>\n",
       "    <tr>\n",
       "      <th>min</th>\n",
       "      <td>18.000000</td>\n",
       "      <td>15.000000</td>\n",
       "      <td>1.000000</td>\n",
       "    </tr>\n",
       "    <tr>\n",
       "      <th>25%</th>\n",
       "      <td>28.750000</td>\n",
       "      <td>41.500000</td>\n",
       "      <td>34.750000</td>\n",
       "    </tr>\n",
       "    <tr>\n",
       "      <th>50%</th>\n",
       "      <td>36.000000</td>\n",
       "      <td>61.500000</td>\n",
       "      <td>50.000000</td>\n",
       "    </tr>\n",
       "    <tr>\n",
       "      <th>75%</th>\n",
       "      <td>49.000000</td>\n",
       "      <td>78.000000</td>\n",
       "      <td>73.000000</td>\n",
       "    </tr>\n",
       "    <tr>\n",
       "      <th>max</th>\n",
       "      <td>70.000000</td>\n",
       "      <td>137.000000</td>\n",
       "      <td>99.000000</td>\n",
       "    </tr>\n",
       "  </tbody>\n",
       "</table>\n",
       "</div>"
      ],
      "text/plain": [
       "              Age  Annual Income (k$)  Spending Score (1-100)\n",
       "count  200.000000          200.000000              200.000000\n",
       "mean    38.850000           60.560000               50.200000\n",
       "std     13.969007           26.264721               25.823522\n",
       "min     18.000000           15.000000                1.000000\n",
       "25%     28.750000           41.500000               34.750000\n",
       "50%     36.000000           61.500000               50.000000\n",
       "75%     49.000000           78.000000               73.000000\n",
       "max     70.000000          137.000000               99.000000"
      ]
     },
     "execution_count": 8,
     "metadata": {},
     "output_type": "execute_result"
    }
   ],
   "source": [
    "# Check to see descriptive statistics\n",
    "df.describe()"
   ]
  },
  {
   "cell_type": "markdown",
   "id": "157e304d",
   "metadata": {
    "id": "157e304d"
   },
   "source": [
    "From the above  table, we can see that there are no values to clean. Age looks normally distributed, annual income in the thousands doesn't have outliers that are too excessive. Spending score is between 1 and 100. "
   ]
  },
  {
   "cell_type": "code",
   "execution_count": 9,
   "id": "14eecb88",
   "metadata": {
    "id": "14eecb88"
   },
   "outputs": [
    {
     "data": {
      "text/plain": [
       "Female    112\n",
       "Male       88\n",
       "Name: Gender, dtype: int64"
      ]
     },
     "execution_count": 9,
     "metadata": {},
     "output_type": "execute_result"
    }
   ],
   "source": [
    "#Count the occurrences of gender\n",
    "df.Gender.value_counts()"
   ]
  },
  {
   "cell_type": "code",
   "execution_count": 10,
   "id": "291818a4",
   "metadata": {},
   "outputs": [
    {
     "data": {
      "image/png": "[encoded data removed]",
      "text/plain": [
       "<Figure size 432x288 with 1 Axes>"
      ]
     },
     "metadata": {},
     "output_type": "display_data"
    }
   ],
   "source": [
    "#Visualise gender using pie chart\n",
    "Gender_counts = {'Female': 112, 'Male': 88}\n",
    "\n",
    "plt.pie(Gender_counts.values(), labels=Gender_counts.keys(), autopct='%1.1f%%')\n",
    "plt.title('Gender Distribution')\n",
    "plt.show()"
   ]
  },
  {
   "cell_type": "markdown",
   "id": "6d022d92",
   "metadata": {
    "id": "6d022d92"
   },
   "source": [
    "* There are more women than men in this dataset"
   ]
  },
  {
   "cell_type": "code",
   "execution_count": 11,
   "id": "7a053886",
   "metadata": {},
   "outputs": [
    {
     "data": {
      "image/png": "[encoded data removed]",
      "text/plain": [
       "<Figure size 432x288 with 1 Axes>"
      ]
     },
     "metadata": {
      "needs_background": "light"
     },
     "output_type": "display_data"
    }
   ],
   "source": [
    "# Create the histogram showing age\n",
    "plt.hist(df['Age'], bins=35)\n",
    "\n",
    "# Add a title and labels\n",
    "plt.title('Distribution of Age')\n",
    "plt.xlabel('Age')\n",
    "plt.ylabel('Frequency')\n",
    "\n",
    "# Display the histogram\n",
    "plt.show()"
   ]
  },
  {
   "cell_type": "markdown",
   "id": "7897cb8d",
   "metadata": {},
   "source": [
    "* There are equal number of Visitors in the Mall for the Agee 18 and 67. People of Age 55, 56, 69, 64 are very less frequent in the Malls. People at Age 32 are the Most Frequent Visitors in the Mall."
   ]
  },
  {
   "cell_type": "code",
   "execution_count": 12,
   "id": "a0856dee",
   "metadata": {},
   "outputs": [
    {
     "data": {
      "image/png": "[encoded data removed]",
      "text/plain": [
       "<Figure size 432x288 with 1 Axes>"
      ]
     },
     "metadata": {
      "needs_background": "light"
     },
     "output_type": "display_data"
    }
   ],
   "source": [
    "#Spending Score Distribution by Gender\n",
    "sns.histplot(data=df, x='Spending Score (1-100)', hue='Gender', multiple='stack')\n",
    "plt.title('Spending Score Distribution by Gender')\n",
    "plt.xlabel('Spending Score (1-100)')\n",
    "plt.legend(['Male', 'Female'])\n",
    "plt.ylabel('Frequency')\n",
    "plt.show()"
   ]
  },
  {
   "cell_type": "markdown",
   "id": "e28885c0",
   "metadata": {},
   "source": [
    "* Women have higher Spending Score than men."
   ]
  },
  {
   "cell_type": "code",
   "execution_count": 13,
   "id": "2ef5b83f",
   "metadata": {},
   "outputs": [
    {
     "data": {
      "image/png": "[encoded data removed]",
      "text/plain": [
       "<Figure size 432x288 with 1 Axes>"
      ]
     },
     "metadata": {
      "needs_background": "light"
     },
     "output_type": "display_data"
    }
   ],
   "source": [
    "#Annual Income Distribution by Gender\n",
    "sns.histplot(data=df, x='Annual Income (k$)', hue='Gender', multiple='stack')\n",
    "plt.title('Annual Income Distribution by Gender')\n",
    "plt.xlabel('Annual Income (k$)')\n",
    "plt.ylabel('Frequency')\n",
    "plt.legend(['Male', 'Female'])\n",
    "plt.show()"
   ]
  },
  {
   "cell_type": "markdown",
   "id": "d52daa84",
   "metadata": {},
   "source": [
    "* Women have lower income than men, the majority falling between 45 000 and 80,000"
   ]
  },
  {
   "cell_type": "code",
   "execution_count": 14,
   "id": "789c0e53",
   "metadata": {
    "id": "789c0e53"
   },
   "outputs": [],
   "source": [
    "# Create data sets by gender\n",
    "male_customers = df[df['Gender'] == 'Male']\n",
    "female_customers = df[df['Gender'] == 'Female']"
   ]
  },
  {
   "cell_type": "code",
   "execution_count": 15,
   "id": "aedd282d",
   "metadata": {},
   "outputs": [
    {
     "name": "stdout",
     "output_type": "stream",
     "text": [
      "62.22727272727273\n",
      "59.25\n"
     ]
    }
   ],
   "source": [
    "# Print the average Annual Income for men and women\n",
    "print(male_customers['Annual Income (k$)'].mean())\n",
    "print(female_customers['Annual Income (k$)'].mean())"
   ]
  },
  {
   "cell_type": "markdown",
   "id": "a22838f8",
   "metadata": {},
   "source": [
    "* Male have higher annual income than female"
   ]
  },
  {
   "cell_type": "code",
   "execution_count": 16,
   "id": "adb504b4",
   "metadata": {
    "id": "adb504b4",
    "outputId": "fc810dc6-7824-43b1-d31f-3fed9dd6c2e2"
   },
   "outputs": [
    {
     "name": "stdout",
     "output_type": "stream",
     "text": [
      "48.51136363636363\n",
      "51.526785714285715\n"
     ]
    }
   ],
   "source": [
    "# Print the average spending score for men and women\n",
    "print(male_customers['Spending Score (1-100)'].mean())\n",
    "print(female_customers['Spending Score (1-100)'].mean())"
   ]
  },
  {
   "cell_type": "markdown",
   "id": "f5d07b44",
   "metadata": {
    "id": "f5d07b44"
   },
   "source": [
    "* Women on average had a higher spending score by about 3 points"
   ]
  },
  {
   "cell_type": "markdown",
   "id": "b350b3d5",
   "metadata": {
    "id": "b350b3d5"
   },
   "source": [
    "### 5. K-Means Clustering summary\n",
    "\n",
    "* K-means clustering is a type of unsupervised learning, which is used when you have unlabeled data (i.e., data without defined categories or groups). The goal of this algorithm is to find groups in the data, with the number of groups represented by the variable K. The algorithm works iteratively to assign each data point to one of K groups based on the features that are provided. Data points are clustered based on feature similarity. \n",
    "* The Centroid is a point that represent each cluster.\n",
    "* To implement K-Means clustering, we need to look at the Elbow Method.\n",
    "* The Elbow method is a method of interpretation and validation of consistency within-cluster analysis designed to help to find the appropriate number of clusters in a dataset. "
   ]
  },
  {
   "cell_type": "code",
   "execution_count": 17,
   "id": "f73c4c5a",
   "metadata": {
    "id": "f73c4c5a"
   },
   "outputs": [],
   "source": [
    "### Feature selection for the model\n",
    "#Considering only 2 features (Annual income and Spending Score)\n",
    "X= df.iloc[:, [2,3]].values"
   ]
  },
  {
   "cell_type": "code",
   "execution_count": 18,
   "id": "68250427",
   "metadata": {
    "id": "68250427",
    "outputId": "28fceefa-534f-48ee-e627-ae3af6c8969f",
    "scrolled": true
   },
   "outputs": [],
   "source": [
    "#Building the Model\n",
    "#KMeans Algorithm to decide the optimum cluster number , KMeans using Elbow Mmethod\n",
    "#To figure out K for KMeans, I will use ELBOW Method on KMEANS Calculation\n",
    "from sklearn.cluster import KMeans\n",
    "wcss=[]\n",
    "\n",
    "#we always assume the max number of cluster would be 10\n",
    "\n",
    "for i in range(1,11):\n",
    "    kmeans = KMeans(n_clusters= i, n_init=10, random_state=0)\n",
    "    kmeans.fit(X)\n",
    "    wcss.append(kmeans.inertia_)\n",
    "\n",
    "    #inertia - is the formula used to segregate the data points into clusters\n",
    "    #WCSS is - it is total within cluster sum of squares"
   ]
  },
  {
   "cell_type": "code",
   "execution_count": 19,
   "id": "b0cf52c6",
   "metadata": {
    "id": "b0cf52c6",
    "outputId": "27a4c337-98a9-44d5-d05a-44fb76304833"
   },
   "outputs": [
    {
     "data": {
      "image/png": "[encoded data removed]",
      "text/plain": [
       "<Figure size 432x288 with 1 Axes>"
      ]
     },
     "metadata": {
      "needs_background": "light"
     },
     "output_type": "display_data"
    }
   ],
   "source": [
    "#Visualizing the ELBOW method to get the optimal value of K \n",
    "plt.plot(range(1,11), wcss)\n",
    "plt.title('The Elbow Method')\n",
    "plt.xlabel('no of clusters')\n",
    "plt.ylabel('wcss')\n",
    "plt.show()"
   ]
  },
  {
   "cell_type": "code",
   "execution_count": 20,
   "id": "1e41abda",
   "metadata": {
    "id": "1e41abda",
    "scrolled": true
   },
   "outputs": [],
   "source": [
    "#Last elbow comes at k=5\n",
    "\n",
    "#Model Build\n",
    "kmeansmodel = KMeans(n_clusters= 5, init='k-means++', random_state=0)\n",
    "y_kmeans= kmeansmodel.fit_predict(X)\n",
    "\n",
    "#fit_predict() is used in clustering algorithms to simplify the process of training the model and predicting the cluster labels in a single step. \n",
    "#y_kmeans is the final model"
   ]
  },
  {
   "cell_type": "code",
   "execution_count": 21,
   "id": "50a2a192",
   "metadata": {
    "id": "50a2a192",
    "outputId": "c61cf129-dd14-4ccb-c33b-a370899e8b0b"
   },
   "outputs": [
    {
     "data": {
      "image/png": "[encoded data removed]",
      "text/plain": [
       "<Figure size 432x288 with 1 Axes>"
      ]
     },
     "metadata": {
      "needs_background": "light"
     },
     "output_type": "display_data"
    }
   ],
   "source": [
    "#Visualizing all the clusters \n",
    "\n",
    "plt.scatter(X[y_kmeans == 0, 0], X[y_kmeans == 0, 1], s = 100, c = 'red', label = 'Cluster 1')\n",
    "plt.scatter(X[y_kmeans == 1, 0], X[y_kmeans == 1, 1], s = 100, c = 'blue', label = 'Cluster 2')\n",
    "plt.scatter(X[y_kmeans == 2, 0], X[y_kmeans == 2, 1], s = 100, c = 'green', label = 'Cluster 3')\n",
    "plt.scatter(X[y_kmeans == 3, 0], X[y_kmeans == 3, 1], s = 100, c = 'orange', label = 'Cluster 4')\n",
    "plt.scatter(X[y_kmeans == 4, 0], X[y_kmeans == 4, 1], s = 100, c = 'pink', label = 'Cluster 5')\n",
    "plt.scatter(kmeansmodel.cluster_centers_[:, 0], kmeansmodel.cluster_centers_[:, 1], s = 300, c = 'Black', label = 'Centroids')\n",
    "plt.title('Clusters of customers')\n",
    "plt.xlabel('Annual Income (k$)')\n",
    "plt.ylabel('Spending Score (1-100)')\n",
    "plt.legend()\n",
    "plt.show()"
   ]
  },
  {
   "cell_type": "markdown",
   "id": "6a461f0f",
   "metadata": {
    "id": "6a461f0f"
   },
   "source": [
    "### How the K-means algorithm works\n",
    "\n",
    "K-means algorithm starts with randomly initialized centroids, assigns data points to the nearest centroid, updates the centroids based on the assigned data points, and repeats these steps until convergence. The algorithm aims to minimize the sum of squared distances within each cluster and create distinct clusters based on the data's similarity.\n"
   ]
  },
  {
   "cell_type": "markdown",
   "id": "09d04677",
   "metadata": {
    "id": "09d04677"
   },
   "source": [
    "### 6. Model Interpretation \n",
    "\n",
    "* Cluster 1 (Red Colour) -> earning high but spending less. These are the people who are unsatisfied or unhappy by the mall’s services. These can be the prime targets of the mall, as they have the potential to spend money. So, the mall authorities should try to add new facilities so that they can attract these people and can meet their needs.\n",
    "* Cluster 2 (Blue Colour) -> average in terms of earning and spending. These people will not be the prime targets of the shops or mall, but again they will be considered and other data analysis techniques may be used to increase their spending score.\n",
    "* Cluster 3 (Green Color) -> earning high and also spending high. These people are the prime sources of profit. These people might be the regular customers of the mall and are convinced by the mall’s facilities.\n",
    "* Cluster 4 (Orange Color) -> earning less but spending more. These are those people who for some reason love to buy products more often even though they have a low income. Maybe it’s because these people are more than satisfied with the mall services. The shops/malls might not target these people that effectively but still will not lose them.\n",
    "* Cluster 5 (Pink Color) -> Earning less , spending less. These is quite reasonable as people having low salaries prefer to buy less, in fact, these are the wise people who know how to spend and save money. The shops/mall will be least interested in people belonging to this cluster.\n",
    "\n",
    "\n",
    "###### We can put Cluster 1 into some alerting system where email can be send to them on daily basis as they are the target market.  Others we can set like once in a week or once in a month ######\n"
   ]
  },
  {
   "cell_type": "markdown",
   "id": "d667aad4",
   "metadata": {
    "id": "d667aad4"
   },
   "source": [
    "### 7. Benefits of customer segmentation"
   ]
  },
  {
   "cell_type": "markdown",
   "id": "af9e7e60",
   "metadata": {
    "id": "af9e7e60"
   },
   "source": [
    "* It enables companies to target specific groups of customers \n",
    "* When a group of customers is sent personalized messages as part of a marketing mix that is designed around their needs. It's easier for companies to send those customers special offers meant to encourage them to buy more products. Futhermore,Customer segmentation tend to be more valued and appreciated by the customer who receives them as opposed to impersonal brand messaging that doesn't acknowledge purchase history or any kind of customer relationship.\n",
    "* Customer segmentation can also improve customer service and assist in customer loyalty and retention.\n",
    "* Staying a step ahead of competitors in specific sections of the market and identifying new products that existing or potential customers could be interested in or improving products. to meet customer expectations\n"
   ]
  },
  {
   "cell_type": "markdown",
   "id": "a5ce42fb",
   "metadata": {},
   "source": [
    "### 8. Saving the kmeans clustering model and the data with cluster label"
   ]
  },
  {
   "cell_type": "code",
   "execution_count": 22,
   "id": "652eca9e",
   "metadata": {
    "id": "652eca9e"
   },
   "outputs": [
    {
     "data": {
      "text/plain": [
       "['kmeansmodel.pkl']"
      ]
     },
     "execution_count": 22,
     "metadata": {},
     "output_type": "execute_result"
    }
   ],
   "source": [
    "#Saving Scikitlearn models\n",
    "import joblib\n",
    "joblib.dump(kmeansmodel, \"kmeansmodel.pkl\")"
   ]
  },
  {
   "cell_type": "code",
   "execution_count": 23,
   "id": "45ab9d09",
   "metadata": {},
   "outputs": [
    {
     "data": {
      "text/html": [
       "<div>\n",
       "<style scoped>\n",
       "    .dataframe tbody tr th:only-of-type {\n",
       "        vertical-align: middle;\n",
       "    }\n",
       "\n",
       "    .dataframe tbody tr th {\n",
       "        vertical-align: top;\n",
       "    }\n",
       "\n",
       "    .dataframe thead th {\n",
       "        text-align: right;\n",
       "    }\n",
       "</style>\n",
       "<table border=\"1\" class=\"dataframe\">\n",
       "  <thead>\n",
       "    <tr style=\"text-align: right;\">\n",
       "      <th></th>\n",
       "      <th>Gender</th>\n",
       "      <th>Age</th>\n",
       "      <th>Annual Income (k$)</th>\n",
       "      <th>Spending Score (1-100)</th>\n",
       "      <th>Cluster</th>\n",
       "    </tr>\n",
       "  </thead>\n",
       "  <tbody>\n",
       "    <tr>\n",
       "      <th>0</th>\n",
       "      <td>Male</td>\n",
       "      <td>19</td>\n",
       "      <td>15</td>\n",
       "      <td>39</td>\n",
       "      <td>4</td>\n",
       "    </tr>\n",
       "    <tr>\n",
       "      <th>1</th>\n",
       "      <td>Male</td>\n",
       "      <td>21</td>\n",
       "      <td>15</td>\n",
       "      <td>81</td>\n",
       "      <td>3</td>\n",
       "    </tr>\n",
       "    <tr>\n",
       "      <th>2</th>\n",
       "      <td>Female</td>\n",
       "      <td>20</td>\n",
       "      <td>16</td>\n",
       "      <td>6</td>\n",
       "      <td>4</td>\n",
       "    </tr>\n",
       "    <tr>\n",
       "      <th>3</th>\n",
       "      <td>Female</td>\n",
       "      <td>23</td>\n",
       "      <td>16</td>\n",
       "      <td>77</td>\n",
       "      <td>3</td>\n",
       "    </tr>\n",
       "    <tr>\n",
       "      <th>4</th>\n",
       "      <td>Female</td>\n",
       "      <td>31</td>\n",
       "      <td>17</td>\n",
       "      <td>40</td>\n",
       "      <td>4</td>\n",
       "    </tr>\n",
       "    <tr>\n",
       "      <th>...</th>\n",
       "      <td>...</td>\n",
       "      <td>...</td>\n",
       "      <td>...</td>\n",
       "      <td>...</td>\n",
       "      <td>...</td>\n",
       "    </tr>\n",
       "    <tr>\n",
       "      <th>195</th>\n",
       "      <td>Female</td>\n",
       "      <td>35</td>\n",
       "      <td>120</td>\n",
       "      <td>79</td>\n",
       "      <td>2</td>\n",
       "    </tr>\n",
       "    <tr>\n",
       "      <th>196</th>\n",
       "      <td>Female</td>\n",
       "      <td>45</td>\n",
       "      <td>126</td>\n",
       "      <td>28</td>\n",
       "      <td>0</td>\n",
       "    </tr>\n",
       "    <tr>\n",
       "      <th>197</th>\n",
       "      <td>Male</td>\n",
       "      <td>32</td>\n",
       "      <td>126</td>\n",
       "      <td>74</td>\n",
       "      <td>2</td>\n",
       "    </tr>\n",
       "    <tr>\n",
       "      <th>198</th>\n",
       "      <td>Male</td>\n",
       "      <td>32</td>\n",
       "      <td>137</td>\n",
       "      <td>18</td>\n",
       "      <td>0</td>\n",
       "    </tr>\n",
       "    <tr>\n",
       "      <th>199</th>\n",
       "      <td>Male</td>\n",
       "      <td>30</td>\n",
       "      <td>137</td>\n",
       "      <td>83</td>\n",
       "      <td>2</td>\n",
       "    </tr>\n",
       "  </tbody>\n",
       "</table>\n",
       "<p>200 rows × 5 columns</p>\n",
       "</div>"
      ],
      "text/plain": [
       "     Gender  Age  Annual Income (k$)  Spending Score (1-100)  Cluster\n",
       "0      Male   19                  15                      39        4\n",
       "1      Male   21                  15                      81        3\n",
       "2    Female   20                  16                       6        4\n",
       "3    Female   23                  16                      77        3\n",
       "4    Female   31                  17                      40        4\n",
       "..      ...  ...                 ...                     ...      ...\n",
       "195  Female   35                 120                      79        2\n",
       "196  Female   45                 126                      28        0\n",
       "197    Male   32                 126                      74        2\n",
       "198    Male   32                 137                      18        0\n",
       "199    Male   30                 137                      83        2\n",
       "\n",
       "[200 rows x 5 columns]"
      ]
     },
     "execution_count": 23,
     "metadata": {},
     "output_type": "execute_result"
    }
   ],
   "source": [
    "#Converting a clustering problem into 5-class classification problem classification problem. \n",
    "#The goal is to classify new data points into these pre-defined cluster segments\n",
    "# Creating a target column \"Cluster\" for storing the cluster segments\n",
    "cluster_df = pd.concat([df,pd.DataFrame({'Cluster':kmeansmodel.labels_})],axis=1)\n",
    "cluster_df"
   ]
  },
  {
   "cell_type": "code",
   "execution_count": 24,
   "id": "e603fded",
   "metadata": {},
   "outputs": [],
   "source": [
    "# sklearn preprocessing for dealing with categorical variables\n",
    "from sklearn.preprocessing import LabelEncoder"
   ]
  },
  {
   "cell_type": "code",
   "execution_count": 25,
   "id": "5ff76ae0",
   "metadata": {},
   "outputs": [
    {
     "name": "stdout",
     "output_type": "stream",
     "text": [
      "1 columns were label encoded.\n"
     ]
    }
   ],
   "source": [
    "# Create a label encoder object\n",
    "le = LabelEncoder()\n",
    "le_count = 0\n",
    "\n",
    "# Iterate through the columns\n",
    "for col in cluster_df:\n",
    "    if cluster_df[col].dtype == 'object':\n",
    "        # If 2 or fewer unique categories\n",
    "        if len(list(cluster_df[col].unique())) <= 2:\n",
    "            # Train on the training data\n",
    "            le.fit(cluster_df[col])\n",
    "            # Transform both training and testing data\n",
    "            cluster_df[col] = le.transform(cluster_df[col])\n",
    "     \n",
    "            \n",
    "            # Keep track of how many columns were label encoded\n",
    "            le_count += 1\n",
    "            \n",
    "print('%d columns were label encoded.' % le_count)"
   ]
  },
  {
   "cell_type": "code",
   "execution_count": 27,
   "id": "23f7bae3",
   "metadata": {},
   "outputs": [
    {
     "data": {
      "text/html": [
       "<div>\n",
       "<style scoped>\n",
       "    .dataframe tbody tr th:only-of-type {\n",
       "        vertical-align: middle;\n",
       "    }\n",
       "\n",
       "    .dataframe tbody tr th {\n",
       "        vertical-align: top;\n",
       "    }\n",
       "\n",
       "    .dataframe thead th {\n",
       "        text-align: right;\n",
       "    }\n",
       "</style>\n",
       "<table border=\"1\" class=\"dataframe\">\n",
       "  <thead>\n",
       "    <tr style=\"text-align: right;\">\n",
       "      <th></th>\n",
       "      <th>Gender</th>\n",
       "      <th>Age</th>\n",
       "      <th>Annual Income (k$)</th>\n",
       "      <th>Spending Score (1-100)</th>\n",
       "      <th>Cluster</th>\n",
       "    </tr>\n",
       "  </thead>\n",
       "  <tbody>\n",
       "    <tr>\n",
       "      <th>0</th>\n",
       "      <td>1</td>\n",
       "      <td>19</td>\n",
       "      <td>15</td>\n",
       "      <td>39</td>\n",
       "      <td>4</td>\n",
       "    </tr>\n",
       "    <tr>\n",
       "      <th>1</th>\n",
       "      <td>1</td>\n",
       "      <td>21</td>\n",
       "      <td>15</td>\n",
       "      <td>81</td>\n",
       "      <td>3</td>\n",
       "    </tr>\n",
       "    <tr>\n",
       "      <th>2</th>\n",
       "      <td>0</td>\n",
       "      <td>20</td>\n",
       "      <td>16</td>\n",
       "      <td>6</td>\n",
       "      <td>4</td>\n",
       "    </tr>\n",
       "    <tr>\n",
       "      <th>3</th>\n",
       "      <td>0</td>\n",
       "      <td>23</td>\n",
       "      <td>16</td>\n",
       "      <td>77</td>\n",
       "      <td>3</td>\n",
       "    </tr>\n",
       "    <tr>\n",
       "      <th>4</th>\n",
       "      <td>0</td>\n",
       "      <td>31</td>\n",
       "      <td>17</td>\n",
       "      <td>40</td>\n",
       "      <td>4</td>\n",
       "    </tr>\n",
       "  </tbody>\n",
       "</table>\n",
       "</div>"
      ],
      "text/plain": [
       "   Gender  Age  Annual Income (k$)  Spending Score (1-100)  Cluster\n",
       "0       1   19                  15                      39        4\n",
       "1       1   21                  15                      81        3\n",
       "2       0   20                  16                       6        4\n",
       "3       0   23                  16                      77        3\n",
       "4       0   31                  17                      40        4"
      ]
     },
     "execution_count": 27,
     "metadata": {},
     "output_type": "execute_result"
    }
   ],
   "source": [
    "cluster_df.head()"
   ]
  },
  {
   "cell_type": "code",
   "execution_count": 29,
   "id": "895d5f5f",
   "metadata": {},
   "outputs": [],
   "source": [
    "#Saving clustered customer data for streamlit app\n",
    "cluster_df.to_csv(\"Clustered_Mall_Customers.csv\")"
   ]
  },
  {
   "cell_type": "markdown",
   "id": "6c1036d2",
   "metadata": {},
   "source": [
    "### Using Decision tree to train and test the model"
   ]
  },
  {
   "cell_type": "code",
   "execution_count": 31,
   "id": "4727d76f",
   "metadata": {},
   "outputs": [],
   "source": [
    "df = pd.DataFrame(cluster_df)\n",
    "\n",
    "# Drop the 'Cluster' column from the DataFrame \n",
    "X = df.drop(['Cluster'], axis=1)\n",
    "y = df[['Cluster']]\n",
    "\n",
    "# Split the dataset into train and test sets\n",
    "X_train, X_test, y_train, y_test = train_test_split(X, y, test_size=0.3)"
   ]
  },
  {
   "cell_type": "markdown",
   "id": "e1883185",
   "metadata": {},
   "source": [
    "* The separation of X and Y is done when preparing data for machine learning tasks, specifically for supervised learning algorithms\n",
    "* The reason for dropping the 'Cluster' column and separating it into 'X' and 'y' is to create separate datasets for the independent variables ('X') and the target variable ('y')\n",
    "* Independent variable ('X') will be used to make predictions or classify datapoints. This variables have predictive power\n",
    "* Target Variable ('y') is a target variable I want to predict or classify. It contains claster labels. By assigning the 'Cluster' column to 'y', I am creating a separate variable that holds the cluster labels for each data point"
   ]
  },
  {
   "cell_type": "code",
   "execution_count": 32,
   "id": "d01f6c9f",
   "metadata": {},
   "outputs": [],
   "source": [
    "#Split Dataset\n",
    "X = cluster_df.drop(['Cluster'],axis=1)\n",
    "y= cluster_df[['Cluster']]\n",
    "X_train, X_test, y_train, y_test =train_test_split(X, y, test_size=0.3)"
   ]
  },
  {
   "cell_type": "markdown",
   "id": "0399b6a2",
   "metadata": {},
   "source": [
    "* train_test_split: This is a function from the sklearn.model_selection module. It is used to randomly split the dataset into two subsets: the training set and the testing set. It shuffles the data to ensure randomization.\n",
    "\n",
    "* X and y: These variables represent the input features (X) and the target variable (y). They are the datasets you obtained after dropping the target variable column and separating it from the input features, as explained earlier.\n",
    "\n",
    "* test_size: This parameter specifies the proportion of the dataset that will be allocated to the testing set. In this case, it is set to 0.3, which means that 30% of the data will be used for testing, and the remaining 70% will be used for training.\n",
    "\n",
    "* X_train, X_test, y_train, y_test: These variables store the resulting datasets after the split. X_train and y_train represent the training data, while X_test and y_test represent the testing data."
   ]
  },
  {
   "cell_type": "code",
   "execution_count": 33,
   "id": "514eef8a",
   "metadata": {},
   "outputs": [
    {
     "data": {
      "text/html": [
       "<div>\n",
       "<style scoped>\n",
       "    .dataframe tbody tr th:only-of-type {\n",
       "        vertical-align: middle;\n",
       "    }\n",
       "\n",
       "    .dataframe tbody tr th {\n",
       "        vertical-align: top;\n",
       "    }\n",
       "\n",
       "    .dataframe thead th {\n",
       "        text-align: right;\n",
       "    }\n",
       "</style>\n",
       "<table border=\"1\" class=\"dataframe\">\n",
       "  <thead>\n",
       "    <tr style=\"text-align: right;\">\n",
       "      <th></th>\n",
       "      <th>Gender</th>\n",
       "      <th>Age</th>\n",
       "      <th>Annual Income (k$)</th>\n",
       "      <th>Spending Score (1-100)</th>\n",
       "    </tr>\n",
       "  </thead>\n",
       "  <tbody>\n",
       "    <tr>\n",
       "      <th>82</th>\n",
       "      <td>1</td>\n",
       "      <td>67</td>\n",
       "      <td>54</td>\n",
       "      <td>41</td>\n",
       "    </tr>\n",
       "    <tr>\n",
       "      <th>191</th>\n",
       "      <td>0</td>\n",
       "      <td>32</td>\n",
       "      <td>103</td>\n",
       "      <td>69</td>\n",
       "    </tr>\n",
       "    <tr>\n",
       "      <th>57</th>\n",
       "      <td>1</td>\n",
       "      <td>69</td>\n",
       "      <td>44</td>\n",
       "      <td>46</td>\n",
       "    </tr>\n",
       "    <tr>\n",
       "      <th>109</th>\n",
       "      <td>1</td>\n",
       "      <td>66</td>\n",
       "      <td>63</td>\n",
       "      <td>48</td>\n",
       "    </tr>\n",
       "    <tr>\n",
       "      <th>8</th>\n",
       "      <td>1</td>\n",
       "      <td>64</td>\n",
       "      <td>19</td>\n",
       "      <td>3</td>\n",
       "    </tr>\n",
       "    <tr>\n",
       "      <th>...</th>\n",
       "      <td>...</td>\n",
       "      <td>...</td>\n",
       "      <td>...</td>\n",
       "      <td>...</td>\n",
       "    </tr>\n",
       "    <tr>\n",
       "      <th>167</th>\n",
       "      <td>0</td>\n",
       "      <td>33</td>\n",
       "      <td>86</td>\n",
       "      <td>95</td>\n",
       "    </tr>\n",
       "    <tr>\n",
       "      <th>56</th>\n",
       "      <td>0</td>\n",
       "      <td>51</td>\n",
       "      <td>44</td>\n",
       "      <td>50</td>\n",
       "    </tr>\n",
       "    <tr>\n",
       "      <th>31</th>\n",
       "      <td>0</td>\n",
       "      <td>21</td>\n",
       "      <td>30</td>\n",
       "      <td>73</td>\n",
       "    </tr>\n",
       "    <tr>\n",
       "      <th>101</th>\n",
       "      <td>0</td>\n",
       "      <td>49</td>\n",
       "      <td>62</td>\n",
       "      <td>48</td>\n",
       "    </tr>\n",
       "    <tr>\n",
       "      <th>140</th>\n",
       "      <td>0</td>\n",
       "      <td>57</td>\n",
       "      <td>75</td>\n",
       "      <td>5</td>\n",
       "    </tr>\n",
       "  </tbody>\n",
       "</table>\n",
       "<p>140 rows × 4 columns</p>\n",
       "</div>"
      ],
      "text/plain": [
       "     Gender  Age  Annual Income (k$)  Spending Score (1-100)\n",
       "82        1   67                  54                      41\n",
       "191       0   32                 103                      69\n",
       "57        1   69                  44                      46\n",
       "109       1   66                  63                      48\n",
       "8         1   64                  19                       3\n",
       "..      ...  ...                 ...                     ...\n",
       "167       0   33                  86                      95\n",
       "56        0   51                  44                      50\n",
       "31        0   21                  30                      73\n",
       "101       0   49                  62                      48\n",
       "140       0   57                  75                       5\n",
       "\n",
       "[140 rows x 4 columns]"
      ]
     },
     "execution_count": 33,
     "metadata": {},
     "output_type": "execute_result"
    }
   ],
   "source": [
    "#Training data\n",
    "X_train"
   ]
  },
  {
   "cell_type": "code",
   "execution_count": 34,
   "id": "42c30a7a",
   "metadata": {},
   "outputs": [
    {
     "data": {
      "text/html": [
       "<div>\n",
       "<style scoped>\n",
       "    .dataframe tbody tr th:only-of-type {\n",
       "        vertical-align: middle;\n",
       "    }\n",
       "\n",
       "    .dataframe tbody tr th {\n",
       "        vertical-align: top;\n",
       "    }\n",
       "\n",
       "    .dataframe thead th {\n",
       "        text-align: right;\n",
       "    }\n",
       "</style>\n",
       "<table border=\"1\" class=\"dataframe\">\n",
       "  <thead>\n",
       "    <tr style=\"text-align: right;\">\n",
       "      <th></th>\n",
       "      <th>Gender</th>\n",
       "      <th>Age</th>\n",
       "      <th>Annual Income (k$)</th>\n",
       "      <th>Spending Score (1-100)</th>\n",
       "    </tr>\n",
       "  </thead>\n",
       "  <tbody>\n",
       "    <tr>\n",
       "      <th>165</th>\n",
       "      <td>0</td>\n",
       "      <td>36</td>\n",
       "      <td>85</td>\n",
       "      <td>75</td>\n",
       "    </tr>\n",
       "    <tr>\n",
       "      <th>144</th>\n",
       "      <td>1</td>\n",
       "      <td>25</td>\n",
       "      <td>77</td>\n",
       "      <td>12</td>\n",
       "    </tr>\n",
       "    <tr>\n",
       "      <th>70</th>\n",
       "      <td>1</td>\n",
       "      <td>70</td>\n",
       "      <td>49</td>\n",
       "      <td>55</td>\n",
       "    </tr>\n",
       "    <tr>\n",
       "      <th>161</th>\n",
       "      <td>0</td>\n",
       "      <td>29</td>\n",
       "      <td>79</td>\n",
       "      <td>83</td>\n",
       "    </tr>\n",
       "    <tr>\n",
       "      <th>163</th>\n",
       "      <td>0</td>\n",
       "      <td>31</td>\n",
       "      <td>81</td>\n",
       "      <td>93</td>\n",
       "    </tr>\n",
       "    <tr>\n",
       "      <th>137</th>\n",
       "      <td>1</td>\n",
       "      <td>32</td>\n",
       "      <td>73</td>\n",
       "      <td>73</td>\n",
       "    </tr>\n",
       "    <tr>\n",
       "      <th>44</th>\n",
       "      <td>0</td>\n",
       "      <td>49</td>\n",
       "      <td>39</td>\n",
       "      <td>28</td>\n",
       "    </tr>\n",
       "    <tr>\n",
       "      <th>182</th>\n",
       "      <td>1</td>\n",
       "      <td>46</td>\n",
       "      <td>98</td>\n",
       "      <td>15</td>\n",
       "    </tr>\n",
       "    <tr>\n",
       "      <th>111</th>\n",
       "      <td>0</td>\n",
       "      <td>19</td>\n",
       "      <td>63</td>\n",
       "      <td>54</td>\n",
       "    </tr>\n",
       "    <tr>\n",
       "      <th>18</th>\n",
       "      <td>1</td>\n",
       "      <td>52</td>\n",
       "      <td>23</td>\n",
       "      <td>29</td>\n",
       "    </tr>\n",
       "    <tr>\n",
       "      <th>30</th>\n",
       "      <td>1</td>\n",
       "      <td>60</td>\n",
       "      <td>30</td>\n",
       "      <td>4</td>\n",
       "    </tr>\n",
       "    <tr>\n",
       "      <th>189</th>\n",
       "      <td>0</td>\n",
       "      <td>36</td>\n",
       "      <td>103</td>\n",
       "      <td>85</td>\n",
       "    </tr>\n",
       "    <tr>\n",
       "      <th>136</th>\n",
       "      <td>0</td>\n",
       "      <td>44</td>\n",
       "      <td>73</td>\n",
       "      <td>7</td>\n",
       "    </tr>\n",
       "    <tr>\n",
       "      <th>80</th>\n",
       "      <td>1</td>\n",
       "      <td>57</td>\n",
       "      <td>54</td>\n",
       "      <td>51</td>\n",
       "    </tr>\n",
       "    <tr>\n",
       "      <th>138</th>\n",
       "      <td>1</td>\n",
       "      <td>19</td>\n",
       "      <td>74</td>\n",
       "      <td>10</td>\n",
       "    </tr>\n",
       "    <tr>\n",
       "      <th>35</th>\n",
       "      <td>0</td>\n",
       "      <td>21</td>\n",
       "      <td>33</td>\n",
       "      <td>81</td>\n",
       "    </tr>\n",
       "    <tr>\n",
       "      <th>78</th>\n",
       "      <td>0</td>\n",
       "      <td>23</td>\n",
       "      <td>54</td>\n",
       "      <td>52</td>\n",
       "    </tr>\n",
       "    <tr>\n",
       "      <th>64</th>\n",
       "      <td>1</td>\n",
       "      <td>63</td>\n",
       "      <td>48</td>\n",
       "      <td>51</td>\n",
       "    </tr>\n",
       "    <tr>\n",
       "      <th>29</th>\n",
       "      <td>0</td>\n",
       "      <td>23</td>\n",
       "      <td>29</td>\n",
       "      <td>87</td>\n",
       "    </tr>\n",
       "    <tr>\n",
       "      <th>178</th>\n",
       "      <td>1</td>\n",
       "      <td>59</td>\n",
       "      <td>93</td>\n",
       "      <td>14</td>\n",
       "    </tr>\n",
       "    <tr>\n",
       "      <th>11</th>\n",
       "      <td>0</td>\n",
       "      <td>35</td>\n",
       "      <td>19</td>\n",
       "      <td>99</td>\n",
       "    </tr>\n",
       "    <tr>\n",
       "      <th>106</th>\n",
       "      <td>0</td>\n",
       "      <td>66</td>\n",
       "      <td>63</td>\n",
       "      <td>50</td>\n",
       "    </tr>\n",
       "    <tr>\n",
       "      <th>108</th>\n",
       "      <td>1</td>\n",
       "      <td>68</td>\n",
       "      <td>63</td>\n",
       "      <td>43</td>\n",
       "    </tr>\n",
       "    <tr>\n",
       "      <th>105</th>\n",
       "      <td>0</td>\n",
       "      <td>21</td>\n",
       "      <td>62</td>\n",
       "      <td>42</td>\n",
       "    </tr>\n",
       "    <tr>\n",
       "      <th>46</th>\n",
       "      <td>0</td>\n",
       "      <td>50</td>\n",
       "      <td>40</td>\n",
       "      <td>55</td>\n",
       "    </tr>\n",
       "    <tr>\n",
       "      <th>60</th>\n",
       "      <td>1</td>\n",
       "      <td>70</td>\n",
       "      <td>46</td>\n",
       "      <td>56</td>\n",
       "    </tr>\n",
       "    <tr>\n",
       "      <th>79</th>\n",
       "      <td>0</td>\n",
       "      <td>49</td>\n",
       "      <td>54</td>\n",
       "      <td>42</td>\n",
       "    </tr>\n",
       "    <tr>\n",
       "      <th>98</th>\n",
       "      <td>1</td>\n",
       "      <td>48</td>\n",
       "      <td>61</td>\n",
       "      <td>42</td>\n",
       "    </tr>\n",
       "    <tr>\n",
       "      <th>45</th>\n",
       "      <td>0</td>\n",
       "      <td>24</td>\n",
       "      <td>39</td>\n",
       "      <td>65</td>\n",
       "    </tr>\n",
       "    <tr>\n",
       "      <th>91</th>\n",
       "      <td>1</td>\n",
       "      <td>18</td>\n",
       "      <td>59</td>\n",
       "      <td>41</td>\n",
       "    </tr>\n",
       "    <tr>\n",
       "      <th>39</th>\n",
       "      <td>0</td>\n",
       "      <td>20</td>\n",
       "      <td>37</td>\n",
       "      <td>75</td>\n",
       "    </tr>\n",
       "    <tr>\n",
       "      <th>96</th>\n",
       "      <td>0</td>\n",
       "      <td>47</td>\n",
       "      <td>60</td>\n",
       "      <td>47</td>\n",
       "    </tr>\n",
       "    <tr>\n",
       "      <th>2</th>\n",
       "      <td>0</td>\n",
       "      <td>20</td>\n",
       "      <td>16</td>\n",
       "      <td>6</td>\n",
       "    </tr>\n",
       "    <tr>\n",
       "      <th>113</th>\n",
       "      <td>1</td>\n",
       "      <td>19</td>\n",
       "      <td>64</td>\n",
       "      <td>46</td>\n",
       "    </tr>\n",
       "    <tr>\n",
       "      <th>34</th>\n",
       "      <td>0</td>\n",
       "      <td>49</td>\n",
       "      <td>33</td>\n",
       "      <td>14</td>\n",
       "    </tr>\n",
       "    <tr>\n",
       "      <th>192</th>\n",
       "      <td>1</td>\n",
       "      <td>33</td>\n",
       "      <td>113</td>\n",
       "      <td>8</td>\n",
       "    </tr>\n",
       "    <tr>\n",
       "      <th>7</th>\n",
       "      <td>0</td>\n",
       "      <td>23</td>\n",
       "      <td>18</td>\n",
       "      <td>94</td>\n",
       "    </tr>\n",
       "    <tr>\n",
       "      <th>181</th>\n",
       "      <td>0</td>\n",
       "      <td>32</td>\n",
       "      <td>97</td>\n",
       "      <td>86</td>\n",
       "    </tr>\n",
       "    <tr>\n",
       "      <th>59</th>\n",
       "      <td>1</td>\n",
       "      <td>53</td>\n",
       "      <td>46</td>\n",
       "      <td>46</td>\n",
       "    </tr>\n",
       "    <tr>\n",
       "      <th>117</th>\n",
       "      <td>0</td>\n",
       "      <td>49</td>\n",
       "      <td>65</td>\n",
       "      <td>59</td>\n",
       "    </tr>\n",
       "    <tr>\n",
       "      <th>68</th>\n",
       "      <td>1</td>\n",
       "      <td>19</td>\n",
       "      <td>48</td>\n",
       "      <td>59</td>\n",
       "    </tr>\n",
       "    <tr>\n",
       "      <th>103</th>\n",
       "      <td>1</td>\n",
       "      <td>26</td>\n",
       "      <td>62</td>\n",
       "      <td>55</td>\n",
       "    </tr>\n",
       "    <tr>\n",
       "      <th>75</th>\n",
       "      <td>1</td>\n",
       "      <td>26</td>\n",
       "      <td>54</td>\n",
       "      <td>54</td>\n",
       "    </tr>\n",
       "    <tr>\n",
       "      <th>102</th>\n",
       "      <td>1</td>\n",
       "      <td>67</td>\n",
       "      <td>62</td>\n",
       "      <td>59</td>\n",
       "    </tr>\n",
       "    <tr>\n",
       "      <th>132</th>\n",
       "      <td>0</td>\n",
       "      <td>25</td>\n",
       "      <td>72</td>\n",
       "      <td>34</td>\n",
       "    </tr>\n",
       "    <tr>\n",
       "      <th>143</th>\n",
       "      <td>0</td>\n",
       "      <td>32</td>\n",
       "      <td>76</td>\n",
       "      <td>87</td>\n",
       "    </tr>\n",
       "    <tr>\n",
       "      <th>157</th>\n",
       "      <td>0</td>\n",
       "      <td>30</td>\n",
       "      <td>78</td>\n",
       "      <td>78</td>\n",
       "    </tr>\n",
       "    <tr>\n",
       "      <th>33</th>\n",
       "      <td>1</td>\n",
       "      <td>18</td>\n",
       "      <td>33</td>\n",
       "      <td>92</td>\n",
       "    </tr>\n",
       "    <tr>\n",
       "      <th>32</th>\n",
       "      <td>1</td>\n",
       "      <td>53</td>\n",
       "      <td>33</td>\n",
       "      <td>4</td>\n",
       "    </tr>\n",
       "    <tr>\n",
       "      <th>94</th>\n",
       "      <td>0</td>\n",
       "      <td>32</td>\n",
       "      <td>60</td>\n",
       "      <td>42</td>\n",
       "    </tr>\n",
       "    <tr>\n",
       "      <th>158</th>\n",
       "      <td>1</td>\n",
       "      <td>34</td>\n",
       "      <td>78</td>\n",
       "      <td>1</td>\n",
       "    </tr>\n",
       "    <tr>\n",
       "      <th>17</th>\n",
       "      <td>1</td>\n",
       "      <td>20</td>\n",
       "      <td>21</td>\n",
       "      <td>66</td>\n",
       "    </tr>\n",
       "    <tr>\n",
       "      <th>55</th>\n",
       "      <td>1</td>\n",
       "      <td>47</td>\n",
       "      <td>43</td>\n",
       "      <td>41</td>\n",
       "    </tr>\n",
       "    <tr>\n",
       "      <th>126</th>\n",
       "      <td>1</td>\n",
       "      <td>43</td>\n",
       "      <td>71</td>\n",
       "      <td>35</td>\n",
       "    </tr>\n",
       "    <tr>\n",
       "      <th>173</th>\n",
       "      <td>1</td>\n",
       "      <td>36</td>\n",
       "      <td>87</td>\n",
       "      <td>92</td>\n",
       "    </tr>\n",
       "    <tr>\n",
       "      <th>1</th>\n",
       "      <td>1</td>\n",
       "      <td>21</td>\n",
       "      <td>15</td>\n",
       "      <td>81</td>\n",
       "    </tr>\n",
       "    <tr>\n",
       "      <th>169</th>\n",
       "      <td>1</td>\n",
       "      <td>32</td>\n",
       "      <td>87</td>\n",
       "      <td>63</td>\n",
       "    </tr>\n",
       "    <tr>\n",
       "      <th>26</th>\n",
       "      <td>0</td>\n",
       "      <td>45</td>\n",
       "      <td>28</td>\n",
       "      <td>32</td>\n",
       "    </tr>\n",
       "    <tr>\n",
       "      <th>99</th>\n",
       "      <td>1</td>\n",
       "      <td>20</td>\n",
       "      <td>61</td>\n",
       "      <td>49</td>\n",
       "    </tr>\n",
       "    <tr>\n",
       "      <th>123</th>\n",
       "      <td>1</td>\n",
       "      <td>39</td>\n",
       "      <td>69</td>\n",
       "      <td>91</td>\n",
       "    </tr>\n",
       "  </tbody>\n",
       "</table>\n",
       "</div>"
      ],
      "text/plain": [
       "     Gender  Age  Annual Income (k$)  Spending Score (1-100)\n",
       "165       0   36                  85                      75\n",
       "144       1   25                  77                      12\n",
       "70        1   70                  49                      55\n",
       "161       0   29                  79                      83\n",
       "163       0   31                  81                      93\n",
       "137       1   32                  73                      73\n",
       "44        0   49                  39                      28\n",
       "182       1   46                  98                      15\n",
       "111       0   19                  63                      54\n",
       "18        1   52                  23                      29\n",
       "30        1   60                  30                       4\n",
       "189       0   36                 103                      85\n",
       "136       0   44                  73                       7\n",
       "80        1   57                  54                      51\n",
       "138       1   19                  74                      10\n",
       "35        0   21                  33                      81\n",
       "78        0   23                  54                      52\n",
       "64        1   63                  48                      51\n",
       "29        0   23                  29                      87\n",
       "178       1   59                  93                      14\n",
       "11        0   35                  19                      99\n",
       "106       0   66                  63                      50\n",
       "108       1   68                  63                      43\n",
       "105       0   21                  62                      42\n",
       "46        0   50                  40                      55\n",
       "60        1   70                  46                      56\n",
       "79        0   49                  54                      42\n",
       "98        1   48                  61                      42\n",
       "45        0   24                  39                      65\n",
       "91        1   18                  59                      41\n",
       "39        0   20                  37                      75\n",
       "96        0   47                  60                      47\n",
       "2         0   20                  16                       6\n",
       "113       1   19                  64                      46\n",
       "34        0   49                  33                      14\n",
       "192       1   33                 113                       8\n",
       "7         0   23                  18                      94\n",
       "181       0   32                  97                      86\n",
       "59        1   53                  46                      46\n",
       "117       0   49                  65                      59\n",
       "68        1   19                  48                      59\n",
       "103       1   26                  62                      55\n",
       "75        1   26                  54                      54\n",
       "102       1   67                  62                      59\n",
       "132       0   25                  72                      34\n",
       "143       0   32                  76                      87\n",
       "157       0   30                  78                      78\n",
       "33        1   18                  33                      92\n",
       "32        1   53                  33                       4\n",
       "94        0   32                  60                      42\n",
       "158       1   34                  78                       1\n",
       "17        1   20                  21                      66\n",
       "55        1   47                  43                      41\n",
       "126       1   43                  71                      35\n",
       "173       1   36                  87                      92\n",
       "1         1   21                  15                      81\n",
       "169       1   32                  87                      63\n",
       "26        0   45                  28                      32\n",
       "99        1   20                  61                      49\n",
       "123       1   39                  69                      91"
      ]
     },
     "execution_count": 34,
     "metadata": {},
     "output_type": "execute_result"
    }
   ],
   "source": [
    "#Testing data\n",
    "X_test"
   ]
  },
  {
   "cell_type": "code",
   "execution_count": 35,
   "id": "e7312f74",
   "metadata": {},
   "outputs": [],
   "source": [
    "#Decision_Tree\n",
    "#I chose decision tree because it is not affected by feature scaling\n",
    "\n",
    "#Creating a DecisionTreeClassifier object with the entropy criterion\n",
    "model = DecisionTreeClassifier(criterion=\"entropy\")\n",
    "\n",
    "# Training the model on the training data\n",
    "model.fit(X_train, y_train)\n",
    "\n",
    "# Making predictions on the testing data\n",
    "y_pred = model.predict(X_test)"
   ]
  },
  {
   "cell_type": "code",
   "execution_count": 36,
   "id": "c4ee8f13",
   "metadata": {
    "scrolled": true
   },
   "outputs": [
    {
     "name": "stdout",
     "output_type": "stream",
     "text": [
      "[[ 7  0  0  0  0]\n",
      " [ 2 24  0  0  0]\n",
      " [ 0  1 10  0  0]\n",
      " [ 0  1  0  8  0]\n",
      " [ 0  0  0  0  7]]\n",
      "              precision    recall  f1-score   support\n",
      "\n",
      "           0       0.78      1.00      0.88         7\n",
      "           1       0.92      0.92      0.92        26\n",
      "           2       1.00      0.91      0.95        11\n",
      "           3       1.00      0.89      0.94         9\n",
      "           4       1.00      1.00      1.00         7\n",
      "\n",
      "    accuracy                           0.93        60\n",
      "   macro avg       0.94      0.94      0.94        60\n",
      "weighted avg       0.94      0.93      0.93        60\n",
      "\n"
     ]
    }
   ],
   "source": [
    "#Confusion_Matrix\n",
    "print(metrics.confusion_matrix(y_test, y_pred))\n",
    "print(classification_report(y_test, y_pred))"
   ]
  },
  {
   "cell_type": "markdown",
   "id": "89b7094c",
   "metadata": {},
   "source": [
    "### Explanation of confusion matrix results\n",
    "\n",
    "#### 1.\tConfusion Matrix: \n",
    "*  It is a table that allows us to visualize the performance of the algorithm\n",
    "* \tThe above confusion matrix shows the counts of true positive predictions in the diagonal and the counts of false positive predictions in off-diagonal elements. Each row represents the true labels, and each column represents the predicted labels.\n",
    "* \tFor example, the value 7 in the top-left corner of the confusion matrix indicates that 7 instances of class 0 were correctly predicted as class 0.\n",
    "* \tThe other values in the confusion matrix represent similar information for the respective classes.\n",
    "\n",
    "#### 2.\tPrecision:\n",
    "* \tPrecision is a measure of the model's ability to correctly predict the positive instances out of the total predicted positive instances.\n",
    "* \tThe precision values range from 0 to 1, where a higher value indicates better performance.\n",
    "* \tFor example, for class 0, the precision is 0.78, meaning that out of all the instances predicted as class 0, 78% were correct.\n",
    "\n",
    "#### 3.\tRecall:\n",
    "* \tRecall (also known as sensitivity or true positive rate) measures the model's ability to correctly identify the positive instances out of the total actual positive instances.\n",
    "* \tThe recall values range from 0 to 1, where a higher value indicates better performance.\n",
    "* \tFor example, for class 2, the recall is 0.91, indicating that the model identified 91% of the actual instances belonging to class 2.\n",
    "\n",
    "#### 4.\tF1-Score:\n",
    "* \tThe F1-score is the harmonic mean of precision and recall and provides a balanced measure of a model's performance.\n",
    "* \tThe F1-score values range from 0 to 1, where a higher value indicates better performance.\n",
    "* \tFor example, for class 4, the F1-score is 1.0, indicating a perfect balance between precision and recall for that class.\n",
    "\n",
    "#### 5.\tSupport:\n",
    "* \tSupport represents the number of instances in each class in the actual dataset.\n",
    "* \tFor example, there were 7 instances of class 0, 26 instances of class 1, and so on.\n",
    "\n",
    "#### 6.\tAccuracy:\n",
    "* \tAccuracy represents the overall performance of the model and is calculated as the ratio of correct predictions to the total number of predictions.\n",
    "* \tIn this case, the model achieved an accuracy of 0.93, indicating that it correctly predicted 93% of the instances in the dataset.\n",
    "\n",
    "#### 7.\tMacro Avg and Weighted Avg:\n",
    "* \tMacro average calculates the average performance metrics (precision, recall, and F1-score) across all classes, giving equal weight to each class.\n",
    "* \tWeighted average calculates the average performance metrics, but weights each class by its support (number of instances).\n",
    "* \tIn this case, both the macro average and weighted average have similar values, indicating consistent performance across classes.\n"
   ]
  },
  {
   "cell_type": "markdown",
   "id": "e8e45dcc",
   "metadata": {},
   "source": [
    "### Saving the Decision tree model for future prediction"
   ]
  },
  {
   "cell_type": "code",
   "execution_count": 39,
   "id": "4b6c95e6",
   "metadata": {},
   "outputs": [
    {
     "name": "stdout",
     "output_type": "stream",
     "text": [
      "0.9333333333333333 % Accuracy\n"
     ]
    }
   ],
   "source": [
    "import pickle\n",
    "filename = 'final_model.sav'\n",
    "pickle.dump(model, open(filename, 'wb'))\n",
    " \n",
    "# load the model from disk\n",
    "loaded_model = pickle.load(open(filename, 'rb'))\n",
    "result = loaded_model.score(X_test, y_test)\n",
    "print(result,'% Accuracy')"
   ]
  },
  {
   "cell_type": "markdown",
   "id": "4dd3da1d",
   "metadata": {},
   "source": [
    "* An accuracy of 0.9333333333333333 (or 93.33%) means that the model correctly predicted the outcome or class for approximately 93.33% of the samples in the evaluation set. In classification tasks, accuracy is a commonly used metric to assess the performance of a model."
   ]
  }
 ],
 "metadata": {
  "colab": {
   "include_colab_link": true,
   "name": "Mall Customer segmentation.ipynb",
   "provenance": []
  },
  "kernelspec": {
   "display_name": "Python 3 (ipykernel)",
   "language": "python",
   "name": "python3"
  },
  "language_info": {
   "codemirror_mode": {
    "name": "ipython",
    "version": 3
   },
   "file_extension": ".py",
   "mimetype": "text/x-python",
   "name": "python",
   "nbconvert_exporter": "python",
   "pygments_lexer": "ipython3",
   "version": "3.9.7"
  }
 },
 "nbformat": 4,
 "nbformat_minor": 5
}
